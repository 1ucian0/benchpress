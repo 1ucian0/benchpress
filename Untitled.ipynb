{
 "cells": [
  {
   "cell_type": "code",
   "execution_count": 5,
   "id": "1aad790e-461d-4c17-a7c7-9715f73e9340",
   "metadata": {},
   "outputs": [],
   "source": [
    "import cirq\n",
    "from benchpress.cirq_gym.circuits import cirq_circSU2"
   ]
  },
  {
   "cell_type": "code",
   "execution_count": 4,
   "id": "1f0c4b96-3d36-4f2f-bfe2-5901c810ccb6",
   "metadata": {},
   "outputs": [],
   "source": [
    "qc = cirq_circSU2(5,4)"
   ]
  },
  {
   "cell_type": "code",
   "execution_count": null,
   "id": "8909a6af-9a99-4d0e-8f0f-96b2524f91b2",
   "metadata": {},
   "outputs": [],
   "source": []
  },
  {
   "cell_type": "code",
   "execution_count": 38,
   "id": "6cb69fac-d696-46f2-be0b-cadf3ed08d05",
   "metadata": {},
   "outputs": [
    {
     "ename": "TypeError",
     "evalue": "value_equality.<locals>.<lambda>() missing 1 required positional argument: 'self'",
     "output_type": "error",
     "traceback": [
      "\u001b[0;31m---------------------------------------------------------------------------\u001b[0m",
      "\u001b[0;31mTypeError\u001b[0m                                 Traceback (most recent call last)",
      "Cell \u001b[0;32mIn[38], line 4\u001b[0m\n\u001b[1;32m      1\u001b[0m twoq_gates \u001b[38;5;241m=\u001b[39m []\n\u001b[1;32m      3\u001b[0m \u001b[38;5;28;01mfor\u001b[39;00m item \u001b[38;5;129;01min\u001b[39;00m qc\u001b[38;5;241m.\u001b[39mall_operations():\n\u001b[0;32m----> 4\u001b[0m     \u001b[38;5;28;01mif\u001b[39;00m \u001b[38;5;28;43mtype\u001b[39;49m\u001b[43m(\u001b[49m\u001b[43mitem\u001b[49m\u001b[38;5;241;43m.\u001b[39;49m\u001b[43mgate\u001b[49m\u001b[43m)\u001b[49m\u001b[43m \u001b[49m\u001b[38;5;241;43m==\u001b[39;49m\u001b[43m \u001b[49m\u001b[43mcirq\u001b[49m\u001b[38;5;241;43m.\u001b[39;49m\u001b[43mCNOT\u001b[49m:\n\u001b[1;32m      5\u001b[0m         twoq_gates\u001b[38;5;241m.\u001b[39mappend(item)\n",
      "File \u001b[0;32m~/mambaforge/envs/cirq/lib/python3.12/site-packages/cirq/value/value_equality_attr.py:79\u001b[0m, in \u001b[0;36m_value_equality_eq\u001b[0;34m(self, other)\u001b[0m\n\u001b[1;32m     77\u001b[0m \u001b[38;5;28;01mif\u001b[39;00m get_cls_other \u001b[38;5;129;01mis\u001b[39;00m \u001b[38;5;28;01mNone\u001b[39;00m:\n\u001b[1;32m     78\u001b[0m     \u001b[38;5;28;01mreturn\u001b[39;00m \u001b[38;5;28mNotImplemented\u001b[39m\n\u001b[0;32m---> 79\u001b[0m cls_other \u001b[38;5;241m=\u001b[39m \u001b[43mother\u001b[49m\u001b[38;5;241;43m.\u001b[39;49m\u001b[43m_value_equality_values_cls_\u001b[49m\u001b[43m(\u001b[49m\u001b[43m)\u001b[49m\n\u001b[1;32m     80\u001b[0m \u001b[38;5;28;01mif\u001b[39;00m cls_self \u001b[38;5;241m!=\u001b[39m cls_other:\n\u001b[1;32m     81\u001b[0m     \u001b[38;5;28;01mreturn\u001b[39;00m \u001b[38;5;28;01mFalse\u001b[39;00m\n",
      "\u001b[0;31mTypeError\u001b[0m: value_equality.<locals>.<lambda>() missing 1 required positional argument: 'self'"
     ]
    }
   ],
   "source": [
    "twoq_gates = []\n",
    "\n",
    "for item in qc.all_operations():\n",
    "    if type(item.gate) == cirq.CNOT:\n",
    "        twoq_gates.append(item)"
   ]
  },
  {
   "cell_type": "code",
   "execution_count": 50,
   "id": "ac3ea0fa-91d8-49c9-9d42-080d2ce4e3ca",
   "metadata": {},
   "outputs": [
    {
     "data": {
      "text/plain": [
       "{'Ry': 25, 'Rz': 25, 'CXPowGate': 20}"
      ]
     },
     "execution_count": 50,
     "metadata": {},
     "output_type": "execute_result"
    }
   ],
   "source": [
    "count_ops = {}\n",
    "\n",
    "for item in qc.all_operations():\n",
    "    item_type = type(item.gate).__name__\n",
    "    if item_type in count_ops:\n",
    "        count_ops[item_type] += 1\n",
    "    else:\n",
    "        count_ops[item_type] = 1\n",
    "\n",
    "count_ops"
   ]
  },
  {
   "cell_type": "code",
   "execution_count": 26,
   "id": "1efdb9f0-1daa-431c-80a4-8866b97762cf",
   "metadata": {},
   "outputs": [
    {
     "data": {
      "text/plain": [
       "cirq.CNOT"
      ]
     },
     "execution_count": 26,
     "metadata": {},
     "output_type": "execute_result"
    }
   ],
   "source": [
    "cirq.CZ"
   ]
  },
  {
   "cell_type": "code",
   "execution_count": 29,
   "id": "dbec54f3-5f35-4677-9691-e6dad99a390f",
   "metadata": {},
   "outputs": [
    {
     "data": {
      "text/plain": [
       "20"
      ]
     },
     "execution_count": 29,
     "metadata": {},
     "output_type": "execute_result"
    }
   ],
   "source": [
    "len(cirq.Circuit(twoq_gates))"
   ]
  },
  {
   "cell_type": "code",
   "execution_count": 45,
   "id": "71cc65c1-ad32-41c1-bff8-16ad19595292",
   "metadata": {},
   "outputs": [
    {
     "data": {
      "text/plain": [
       "'Ry'"
      ]
     },
     "execution_count": 45,
     "metadata": {},
     "output_type": "execute_result"
    }
   ],
   "source": [
    "type(item.gate).__name__"
   ]
  },
  {
   "cell_type": "code",
   "execution_count": null,
   "id": "3d6682db-8d1a-4d35-b4c4-a0dd2cfd1cb9",
   "metadata": {},
   "outputs": [],
   "source": [
    "cirq.C"
   ]
  },
  {
   "cell_type": "code",
   "execution_count": null,
   "id": "11881fb0-27f0-41dd-a10a-d93636a9f4c4",
   "metadata": {},
   "outputs": [],
   "source": []
  }
 ],
 "metadata": {
  "kernelspec": {
   "display_name": "Python 3 (ipykernel)",
   "language": "python",
   "name": "python3"
  },
  "language_info": {
   "codemirror_mode": {
    "name": "ipython",
    "version": 3
   },
   "file_extension": ".py",
   "mimetype": "text/x-python",
   "name": "python",
   "nbconvert_exporter": "python",
   "pygments_lexer": "ipython3",
   "version": "3.12.4"
  }
 },
 "nbformat": 4,
 "nbformat_minor": 5
}
