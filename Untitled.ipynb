{
 "cells": [
  {
   "cell_type": "code",
   "execution_count": 1,
   "id": "4b983167-8665-4484-8c0a-3918413afe1a",
   "metadata": {},
   "outputs": [],
   "source": [
    "from benchpress.utilities.backends import FlexibleBackend"
   ]
  },
  {
   "cell_type": "code",
   "execution_count": 2,
   "id": "a64c78cc-fc1f-44c0-84e0-bc76149dcfa9",
   "metadata": {},
   "outputs": [],
   "source": [
    "backend = FlexibleBackend(5)"
   ]
  },
  {
   "cell_type": "code",
   "execution_count": 3,
   "id": "803414d0-2eb9-4928-bab2-615dc2eaaf4d",
   "metadata": {},
   "outputs": [
    {
     "data": {
      "text/plain": [
       "'ecr'"
      ]
     },
     "execution_count": 3,
     "metadata": {},
     "output_type": "execute_result"
    }
   ],
   "source": [
    "backend.two_q_gate_type"
   ]
  },
  {
   "cell_type": "code",
   "execution_count": null,
   "id": "aeb1f932-efa9-4b59-a164-888e023ed6af",
   "metadata": {},
   "outputs": [],
   "source": []
  },
  {
   "cell_type": "code",
   "execution_count": null,
   "id": "27ece67e-5e80-4aa4-af96-2e27dd3e8af5",
   "metadata": {},
   "outputs": [],
   "source": []
  }
 ],
 "metadata": {
  "kernelspec": {
   "display_name": "Python 3 (ipykernel)",
   "language": "python",
   "name": "python3"
  },
  "language_info": {
   "codemirror_mode": {
    "name": "ipython",
    "version": 3
   },
   "file_extension": ".py",
   "mimetype": "text/x-python",
   "name": "python",
   "nbconvert_exporter": "python",
   "pygments_lexer": "ipython3",
   "version": "3.12.4"
  }
 },
 "nbformat": 4,
 "nbformat_minor": 5
}
